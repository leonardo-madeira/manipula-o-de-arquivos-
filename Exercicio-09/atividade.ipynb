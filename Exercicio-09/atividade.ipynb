{
 "cells": [
  {
   "cell_type": "markdown",
   "id": "bc9d4a52",
   "metadata": {},
   "source": [
    "### Cidade Mais Populosa\n",
    "\n",
    "- Objetivo: Faça um programa que leia um arquivo texto contendo o nome de uma cidade (ocupando 40 caracteres) e o seu número de habitantes, e gere outro arquivo onde aparece o nome da cidade mais populosa seguida pelo seu n ́umero de habitantes.\n",
    "\n",
    "- Arquivo de Texto: O arquivo cidades.txt contém o seguinte conteúdo:<br>\n",
    "\n",
    "<table>\n",
    "    <tr>\n",
    "        <td>São Paulo</td>\n",
    "        <td>12345678</td>\n",
    "    </tr>\n",
    "    <tr>\n",
    "        <td>Rio de Janeiro</td>\n",
    "        <td>6543210</td>\n",
    "    </tr> \n",
    "    <tr>\n",
    "        <td>Belo Horizonte</td>\n",
    "        <td>2525000</td>\n",
    "    </tr> \n",
    "\n",
    "</table>\n"
   ]
  },
  {
   "cell_type": "code",
   "execution_count": 57,
   "id": "1e7433ec",
   "metadata": {},
   "outputs": [],
   "source": [
    "with open('cidades.txt', 'r', encoding='utf-8') as arquivo:\n",
    "    cidades = [linha.split() for linha in arquivo]\n",
    "\n",
    "maior_populacao = max(cidades, key= lambda x: int(x[-1]))\n",
    "\n",
    "string = ' '.join(maior_populacao)\n",
    "\n",
    "with open('cidade_mais_populosa.txt', 'w', encoding='utf-8') as cidade_populosa:\n",
    "    cidade_populosa.write(string)\n"
   ]
  }
 ],
 "metadata": {
  "kernelspec": {
   "display_name": "Python 3",
   "language": "python",
   "name": "python3"
  },
  "language_info": {
   "codemirror_mode": {
    "name": "ipython",
    "version": 3
   },
   "file_extension": ".py",
   "mimetype": "text/x-python",
   "name": "python",
   "nbconvert_exporter": "python",
   "pygments_lexer": "ipython3",
   "version": "3.11.9"
  }
 },
 "nbformat": 4,
 "nbformat_minor": 5
}
