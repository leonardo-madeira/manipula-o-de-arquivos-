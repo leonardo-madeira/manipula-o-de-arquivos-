{
 "cells": [
  {
   "cell_type": "markdown",
   "id": "ef8223ed",
   "metadata": {},
   "source": [
    "### Concatenação de Arquivos\n",
    "\n",
    "- Objetivo: Faça um programa que leia dois arquivos texto e crie um terceiro arquivo com o conteúdo dos dois primeiros juntos (o conteúdo do primeiro seguido do conteúdo do segundo).\n",
    "\n",
    "- Arquivos de Texto: Os arquivos arquivo1.txt e arquivo2.txt contêm o seguinte conteúdo:<br>\n",
    "Arquivo 1: ```Esta é a primeira linha do arquivo 1.```<br>\n",
    "Arquivo 2: ```Esta é a primeira linha do arquivo 2.```"
   ]
  },
  {
   "cell_type": "code",
   "execution_count": 2,
   "id": "a5ec1c05",
   "metadata": {},
   "outputs": [],
   "source": [
    "arq1 = open('arquivo1.txt', 'r')\n",
    "arq2 = open('arquivo2.txt', 'r')\n",
    "\n",
    "arq1 = arq1.read()\n",
    "arq2 = arq2.read()\n",
    "\n",
    "with open('arq3_concatenado.txt', 'w') as arq3:\n",
    "    arq3.write(f'{arq1}\\n{arq2}')"
   ]
  }
 ],
 "metadata": {
  "kernelspec": {
   "display_name": "Python 3",
   "language": "python",
   "name": "python3"
  },
  "language_info": {
   "codemirror_mode": {
    "name": "ipython",
    "version": 3
   },
   "file_extension": ".py",
   "mimetype": "text/x-python",
   "name": "python",
   "nbconvert_exporter": "python",
   "pygments_lexer": "ipython3",
   "version": "3.11.9"
  }
 },
 "nbformat": 4,
 "nbformat_minor": 5
}
