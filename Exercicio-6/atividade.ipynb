{
 "cells": [
  {
   "cell_type": "markdown",
   "id": "54cdcb00",
   "metadata": {},
   "source": [
    "### Substituição de Vogais\n",
    "- Objetivo: Criar um programa que leia um arquivo texto e crie outro\n",
    "arquivo texto contendo o texto do arquivo de entrada, mas com as\n",
    "vogais substituídas por *.\n",
    "\n",
    "- Arquivo de Texto: O arquivo substituir vogais.txt contém o seguinte conteúdo:<br>\n",
    "```Substitua as vogais deste texto.```"
   ]
  },
  {
   "cell_type": "code",
   "execution_count": null,
   "id": "6354cdd8",
   "metadata": {},
   "outputs": [
    {
     "data": {
      "text/plain": [
       "32"
      ]
     },
     "execution_count": 3,
     "metadata": {},
     "output_type": "execute_result"
    }
   ],
   "source": [
    "from unidecode import unidecode\n",
    "\n",
    "vogais = ['a','e','i','o','u','A','E','I','O','U']\n",
    "\n",
    "arquivo_bruto = open('vogais.txt', 'r', encoding='utf-8')\n",
    "arquivo = unidecode(arquivo_bruto.read())\n",
    "\n",
    "for vogal in vogais:\n",
    "    arquivo = arquivo.replace(vogal, \"*\")\n",
    "\n",
    "arquivo_novo = open(\"vogais_censuradas.txt\", 'w')\n",
    "arquivo_novo.write(arquivo)"
   ]
  }
 ],
 "metadata": {
  "kernelspec": {
   "display_name": "Python 3",
   "language": "python",
   "name": "python3"
  },
  "language_info": {
   "codemirror_mode": {
    "name": "ipython",
    "version": 3
   },
   "file_extension": ".py",
   "mimetype": "text/x-python",
   "name": "python",
   "nbconvert_exporter": "python",
   "pygments_lexer": "ipython3",
   "version": "3.11.9"
  }
 },
 "nbformat": 4,
 "nbformat_minor": 5
}
