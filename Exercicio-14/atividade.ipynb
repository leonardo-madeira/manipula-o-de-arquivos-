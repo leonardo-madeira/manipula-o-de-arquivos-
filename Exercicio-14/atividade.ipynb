{
 "cells": [
  {
   "cell_type": "markdown",
   "id": "93d1778a",
   "metadata": {},
   "source": [
    "### Classificação por Idade\n",
    "\n",
    "- Objetivo: Faça um programa que leia um arquivo texto contendo o\n",
    "  nome de uma pessoa e seu ano de nascimento, e gere outro arquivo\n",
    "  onde aparece o nome da pessoa seguido por uma string que representa\n",
    "  a sua idade:\n",
    "\n",
    "  – Se a idade for menor do que 18 anos, escreva \"menor de idade\".\n",
    "\n",
    "  – Se a idade for maior do que 18 anos, escreva \"maior de idade\".\n",
    "\n",
    "  – Se a idade for igual a 18 anos, escreva \"entrando na maior\n",
    "    idade\".\n",
    "\n",
    "<br>\n",
    "- Arquivo de Texto: O arquivo classificacao.txt contém o seguinte\n",
    "  conteúdo:<br>\n",
    "  João, 2005<br>\n",
    "  Maria, 1985<br>\n",
    "  Pedro, 2006<br>"
   ]
  },
  {
   "cell_type": "code",
   "execution_count": 1,
   "id": "c8db5031",
   "metadata": {},
   "outputs": [],
   "source": [
    "ano_atual = 2025\n",
    "dados = []\n",
    "with open('classificacao.txt', 'r', encoding='utf-8') as arquivo:\n",
    "    for i in arquivo:\n",
    "        dados.append(i.replace(\"\\n\", \"\").split(','))\n",
    "\n",
    "dados_rotulados = []\n",
    "for linha in dados:\n",
    "    idade = ano_atual - int(linha[1])\n",
    "    if idade > 18:\n",
    "        rotulo = 'maior de idade'\n",
    "    elif idade < 18:\n",
    "        rotulo = 'menor de idade'\n",
    "    else:\n",
    "        rotulo = 'entrando na maior idade'\n",
    "    dados_rotulados.append([linha[0], rotulo])\n",
    "\n",
    "\n",
    "with open(\"dados_rotulados.txt\", 'w', encoding='utf-8') as db:\n",
    "    for elemento in dados_rotulados:\n",
    "        db.write(f'{elemento[0]}, {elemento[1]}\\n')\n"
   ]
  }
 ],
 "metadata": {
  "kernelspec": {
   "display_name": "Python 3",
   "language": "python",
   "name": "python3"
  },
  "language_info": {
   "codemirror_mode": {
    "name": "ipython",
    "version": 3
   },
   "file_extension": ".py",
   "mimetype": "text/x-python",
   "name": "python",
   "nbconvert_exporter": "python",
   "pygments_lexer": "ipython3",
   "version": "3.11.9"
  }
 },
 "nbformat": 4,
 "nbformat_minor": 5
}
