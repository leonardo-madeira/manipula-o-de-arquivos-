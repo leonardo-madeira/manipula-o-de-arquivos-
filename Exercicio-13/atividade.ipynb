{
 "cells": [
  {
   "cell_type": "markdown",
   "id": "d42e5fc7",
   "metadata": {},
   "source": [
    "13. Cálculo de Idade\n",
    "\n",
    "- Objetivo: Dado um arquivo texto contendo um conjunto de nome e data de nascimento (DD MM AAAA), faça um programa que leia o nome do arquivo e a data de hoje, e construa outro arquivo contendo o nome e a idade de cada pessoa do primeiro arquivo.\n",
    "\n",
    "- Arquivo de Texto: O arquivo nascimentos.txt contém o seguinte conteúdo:\n",
    "\n",
    "  João, 15 08 1990\n",
    "\n",
    "  Maria, 10 11 1985\n"
   ]
  },
  {
   "cell_type": "code",
   "execution_count": 1,
   "id": "10d4aee8",
   "metadata": {},
   "outputs": [],
   "source": [
    "from datetime import datetime\n",
    "data_hoje = datetime.today()\n",
    "data_hoje_str = [data_hoje.day, data_hoje.month, data_hoje.year]\n",
    "\n",
    "with open('nascimentos.txt', 'r', encoding='utf-8') as arquivo:\n",
    "    arquivo_linhas = []\n",
    "    for i in arquivo:\n",
    "        arquivo_linhas.append(i.split()) \n",
    "\n",
    "with open('idade.txt', 'w', encoding='utf-8') as arquivo_idade:\n",
    "    for entrada in arquivo_linhas:\n",
    "        if data_hoje_str[1] >= int(entrada[2]):\n",
    "            anos = data_hoje_str[2] - int(entrada[3])\n",
    "            meses = data_hoje_str[1] - int(entrada[2])\n",
    "            dias = (31 - int(entrada[1])) + data_hoje_str[0]\n",
    "        else:\n",
    "            anos = (data_hoje_str[2] - int(entrada[3])) - 1\n",
    "            meses = data_hoje_str[1] - 1\n",
    "            dias = ((31 - int(entrada[1])) + data_hoje_str[0])\n",
    "        arquivo_idade.write(f'{entrada[0].replace(\",\",\"\")}: {anos} anos, {meses} meses e {dias} dias\\n')\n"
   ]
  }
 ],
 "metadata": {
  "kernelspec": {
   "display_name": "Python 3",
   "language": "python",
   "name": "python3"
  },
  "language_info": {
   "codemirror_mode": {
    "name": "ipython",
    "version": 3
   },
   "file_extension": ".py",
   "mimetype": "text/x-python",
   "name": "python",
   "nbconvert_exporter": "python",
   "pygments_lexer": "ipython3",
   "version": "3.11.9"
  }
 },
 "nbformat": 4,
 "nbformat_minor": 5
}
