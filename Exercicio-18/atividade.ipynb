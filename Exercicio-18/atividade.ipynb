{
 "cells": [
  {
   "cell_type": "markdown",
   "id": "176dc0e8",
   "metadata": {},
   "source": [
    "### 18. Cadastro de Alunos\n",
    "\n",
    "**Objetivo:**  \n",
    "Crie um programa que declare uma estrutura para o cadastro de alunos.\n",
    "\n",
    "---\n",
    "\n",
    "#### Requisitos\n",
    "\n",
    "1. Devem ser armazenados, para cada aluno:\n",
    "   - Matrícula  \n",
    "   - Sobrenome (apenas um)  \n",
    "   - Ano de nascimento  \n",
    "\n",
    "2. Ao início do programa, o usuário deverá informar o número de alunos que serão armazenados.\n",
    "\n",
    "3. O programa deverá **alocar dinamicamente** a quantidade necessária de memória para armazenar os registros dos alunos.\n",
    "\n",
    "4. O programa deverá pedir ao usuário que entre com as informações dos alunos.\n",
    "\n",
    "5. Em seguida, essas informações deverão ser **gravadas em um arquivo texto**.\n",
    "\n",
    "6. Ao final, mostre os dados armazenados e **libere a memória alocada**.\n",
    "\n",
    "7. Ofereça ao usuário a opção de **carregar os registros de um arquivo para a memória**, alocando dinamicamente a quantidade de memória necessária.\n",
    "\n",
    "---\n",
    "\n",
    "#### Formato do Arquivo\n",
    "\n",
    "O arquivo `alunos.txt` deve conter o seguinte formato:\n",
    "\n",
    "123, Silva, 2000<br>\n",
    "124, Souza, 1998"
   ]
  },
  {
   "cell_type": "code",
   "execution_count": null,
   "id": "193fbb53",
   "metadata": {},
   "outputs": [
    {
     "name": "stdout",
     "output_type": "stream",
     "text": [
      "Insira a opção desejada: \n",
      "1 - Cadastrar novos alunos\n",
      "2 - Carregar alunos do arquivo\n"
     ]
    }
   ],
   "source": [
    "print(\"Insira a opção desejada: \")\n",
    "print(\"1 - Cadastrar novos alunos\")\n",
    "print('2 - Carregar alunos do arquivo')\n",
    "x = int(input())\n",
    "\n",
    "\n",
    "if x == 1:\n",
    "\n",
    "    dados = []\n",
    "    qnt_alunos = int(input(\"Insira a quantidade de alunos que serão armazenados: \"))\n",
    "\n",
    "    while qnt_alunos:\n",
    "        entrada = input()\n",
    "\n",
    "        try:\n",
    "            matricula, sobrenome, ano_nasc = entrada.replace(\" \", \"\").split(\",\")\n",
    "            qnt_alunos -= 1\n",
    "            dados.append([matricula, sobrenome, ano_nasc])\n",
    "        except ValueError:\n",
    "            print(\"Entrada invalida. Tente novamente\")\n",
    "\n",
    "    with open('alunos.txt', \"a\") as documento:\n",
    "        for i in dados:\n",
    "            string = (\", \").join(i)\n",
    "            documento.write(f'\\n{string}')\n",
    "    \n",
    "elif x == 2:\n",
    "    dados = []\n",
    "    with open('alunos.txt', \"r\") as documento:\n",
    "        for i in documento:\n",
    "            dados.append(i.replace(\"\\n\", \"\").replace(\" \", \"\").split(\",\"))\n",
    "    \n",
    "    print(\"\\nDados do arquivo:\\n\")\n",
    "    for i in dados:\n",
    "        string = (\", \").join(i)\n",
    "        print(string)\n"
   ]
  }
 ],
 "metadata": {
  "kernelspec": {
   "display_name": "Python 3",
   "language": "python",
   "name": "python3"
  },
  "language_info": {
   "codemirror_mode": {
    "name": "ipython",
    "version": 3
   },
   "file_extension": ".py",
   "mimetype": "text/x-python",
   "name": "python",
   "nbconvert_exporter": "python",
   "pygments_lexer": "ipython3",
   "version": "3.11.9"
  }
 },
 "nbformat": 4,
 "nbformat_minor": 5
}
