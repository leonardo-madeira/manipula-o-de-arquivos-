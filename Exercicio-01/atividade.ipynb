{
 "cells": [
  {
   "cell_type": "markdown",
   "id": "15f72bd4",
   "metadata": {},
   "source": [
    "### Contagem de Linhas em um Arquivo\n",
    "\n",
    "- Objetivo: Escrever um programa que leia um arquivo texto e mostre\n",
    "na tela quantas linhas esse arquivo possui.\n",
    "- Arquivo de Texto: O arquivo linhas.txt contém o seguinte conteúdo:\n",
    "\n",
    "Esta  ́é a primeira linha.<br>\n",
    "Esta  é a segunda linha.<br>\n",
    "Esta  ́é a terceira linha.<br>"
   ]
  },
  {
   "cell_type": "code",
   "execution_count": 1,
   "id": "5a519c21",
   "metadata": {},
   "outputs": [
    {
     "name": "stdout",
     "output_type": "stream",
     "text": [
      "3\n"
     ]
    }
   ],
   "source": [
    "contador = 0\n",
    "with open('linhas.txt', 'r') as texto:\n",
    "    for linha in texto:\n",
    "        contador += 1\n",
    "\n",
    "print(contador)"
   ]
  }
 ],
 "metadata": {
  "kernelspec": {
   "display_name": "Python 3",
   "language": "python",
   "name": "python3"
  },
  "language_info": {
   "codemirror_mode": {
    "name": "ipython",
    "version": 3
   },
   "file_extension": ".py",
   "mimetype": "text/x-python",
   "name": "python",
   "nbconvert_exporter": "python",
   "pygments_lexer": "ipython3",
   "version": "3.11.9"
  }
 },
 "nbformat": 4,
 "nbformat_minor": 5
}
