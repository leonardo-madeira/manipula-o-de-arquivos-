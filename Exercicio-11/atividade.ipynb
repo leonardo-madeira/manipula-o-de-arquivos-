{
 "cells": [
  {
   "cell_type": "markdown",
   "id": "9fa36c31",
   "metadata": {},
   "source": [
    "### Análise de Arquivo\n",
    "- Objetivo: Abra um arquivo texto, calcule e escreva o número de caracteres, o número de linhas e o número de palavras neste arquivo.<br>\n",
    "Escreva também quantas vezes cada letra ocorre no arquivo (ignorando letras com acento).\n",
    "\n",
    "- Arquivo de Texto: O arquivo analise.txt contém o seguinte conteúdo:<br>\n",
    "Analisando este texto, devemos contar letras, palavras e linhas."
   ]
  },
  {
   "cell_type": "code",
   "execution_count": null,
   "id": "8ef7bd58",
   "metadata": {},
   "outputs": [
    {
     "name": "stdout",
     "output_type": "stream",
     "text": [
      "Caracteres: 64\n",
      "Número de línhas: 1\n",
      "Número de palavras: 9\n",
      "A: 0\n",
      "n: 3\n",
      "a: 7\n",
      "l: 3\n",
      "i: 1\n",
      "s: 5\n",
      "d: 1\n",
      "o: 3\n",
      "e: 6\n",
      "t: 4\n",
      "x: 0\n",
      "v: 1\n",
      "m: 0\n",
      "c: 0\n",
      "r: 2\n",
      "p: 0\n",
      "h: 0\n"
     ]
    }
   ],
   "source": [
    "freq = {}\n",
    "\n",
    "with open('analise.txt', 'r') as arquivo:\n",
    "    arquivo_bruto = arquivo.read()\n",
    "    palavras = arquivo_bruto.split()\n",
    "    linhas = arquivo_bruto.splitlines()\n",
    "\n",
    "    caracteres = len(arquivo_bruto)\n",
    "    num_palavras = len(palavras)\n",
    "    num_linhas = len(linhas)\n",
    "\n",
    "    for letra in arquivo_bruto:\n",
    "        if letra.isalpha():\n",
    "            if letra in freq:\n",
    "                freq[letra] += 1\n",
    "            else:\n",
    "                freq[letra] = 0\n",
    "\n",
    "print(f'Caracteres: {caracteres}\\nNúmero de línhas: {num_linhas}\\nNúmero de palavras: {num_palavras}')\n",
    "\n",
    "for letra, frequencia in freq.items():\n",
    "    print(f\"{letra}: {frequencia}\")"
   ]
  }
 ],
 "metadata": {
  "kernelspec": {
   "display_name": "Python 3",
   "language": "python",
   "name": "python3"
  },
  "language_info": {
   "codemirror_mode": {
    "name": "ipython",
    "version": 3
   },
   "file_extension": ".py",
   "mimetype": "text/x-python",
   "name": "python",
   "nbconvert_exporter": "python",
   "pygments_lexer": "ipython3",
   "version": "3.11.9"
  }
 },
 "nbformat": 4,
 "nbformat_minor": 5
}
