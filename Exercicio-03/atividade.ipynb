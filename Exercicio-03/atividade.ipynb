{
 "cells": [
  {
   "cell_type": "markdown",
   "id": "88208fd9",
   "metadata": {},
   "source": [
    "### Contagem de Vogais e Consoantes\n",
    "\n",
    "- Objetivo: Desenvolver um programa que leia um arquivo texto e\n",
    "mostre na tela quantas letras são vogais e quantas são consoantes.\n",
    "- Arquivo de Texto: O arquivo vogais consoantes.txt contém o\n",
    "seguinte conteúdo:\n",
    "\n",
    "\n",
    "Este texto contém tanto vogais quanto consoantes."
   ]
  },
  {
   "cell_type": "code",
   "execution_count": 2,
   "id": "55113f11",
   "metadata": {},
   "outputs": [
    {
     "name": "stdout",
     "output_type": "stream",
     "text": [
      "Quantidade de vogais: 18\n",
      "Quantidade de consoantes: 25\n"
     ]
    }
   ],
   "source": [
    "from unidecode import unidecode\n",
    "\n",
    "vogais = ['a','e','i','o','u','A','E','I','O','U']\n",
    "contador_vogal = 0\n",
    "contador_consoante = 0\n",
    "\n",
    "with open('vogais_consoantes.txt', 'r', encoding='utf-8') as texto:\n",
    "    texto_bruto = texto.read().replace(\" \", \"\")\n",
    "    sem_acentos = unidecode(texto_bruto)\n",
    "    \n",
    "    for vogal in vogais:\n",
    "        for letra in sem_acentos:\n",
    "            if vogal == letra:\n",
    "                contador_vogal += 1\n",
    "\n",
    "    contador_consoante = len(texto_bruto) - contador_vogal\n",
    "\n",
    "\n",
    "print(f'Quantidade de vogais: {contador_vogal}')\n",
    "print(f'Quantidade de consoantes: {contador_consoante}')"
   ]
  }
 ],
 "metadata": {
  "kernelspec": {
   "display_name": "Python 3",
   "language": "python",
   "name": "python3"
  },
  "language_info": {
   "codemirror_mode": {
    "name": "ipython",
    "version": 3
   },
   "file_extension": ".py",
   "mimetype": "text/x-python",
   "name": "python",
   "nbconvert_exporter": "python",
   "pygments_lexer": "ipython3",
   "version": "3.11.9"
  }
 },
 "nbformat": 4,
 "nbformat_minor": 5
}
