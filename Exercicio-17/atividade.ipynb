{
 "cells": [
  {
   "cell_type": "markdown",
   "id": "03d65daf",
   "metadata": {},
   "source": [
    "### Controle de Mercadorias\n",
    "\n",
    "- Objetivo: Implemente um controle simples de mercadorias em uma despensa domestica. Para cada produto, armazene um codigo numérico, descrição e quantidade atual. O programa deve ter opções para entrada e retirada de produtos, bem como um relatório geral e um de produtos não disponíveis.\n",
    "\n",
    "- Formato do Arquivo: O arquivo mercadorias.txt deve conter o seguinte formato:<br>\n",
    "101, Arroz, 50<br>\n",
    "102, Feijão, 30<br>\n",
    "103, Macarrão, 0<br>"
   ]
  },
  {
   "cell_type": "code",
   "execution_count": 47,
   "id": "c2eb4119",
   "metadata": {},
   "outputs": [
    {
     "name": "stdout",
     "output_type": "stream",
     "text": [
      "Insira a opção desejada: \n",
      "1 - adicionar produtos\n",
      "2 - remover produtos\n",
      "3 - Relatório geral de produtos\n",
      "4 - Produtos indisponíveis\n",
      "\n",
      "Produtos indisponíveis:\n",
      "\n",
      "103, Macarrão, 0\n",
      "200, açucar, 0\n"
     ]
    }
   ],
   "source": [
    "print(\"Insira a opção desejada: \")\n",
    "print(\"1 - adicionar produtos\")\n",
    "print(\"2 - remover produtos\")\n",
    "print(\"3 - Relatório geral de produtos\")\n",
    "print(\"4 - Produtos indisponíveis\")\n",
    "x = int(input())\n",
    "\n",
    "with open('mercadorias.txt', 'r', encoding='utf-8') as arquivo:\n",
    "    produtos = [i.replace(\"\\n\",\"\").replace(\" \",\"\").split(\",\") for i in arquivo]\n",
    "\n",
    "if x == 1:\n",
    "    while True:\n",
    "        entrada = input(\"Insira o id, nome_produto e quantidade ou 0 para sair: \")\n",
    "        if entrada == '0':\n",
    "            break\n",
    "        try:\n",
    "            id, nome_produto, quantidade = entrada.replace(\" \", \"\").split(\",\")\n",
    "        except ValueError:\n",
    "            print(\"Entrada inválida. Use o formato: id, nome_produto, quantidade\")\n",
    "\n",
    "    with open('mercadorias.txt', 'a', encoding='utf-8') as arquivo:\n",
    "        arquivo.write(f\"\\n{id}, {nome_produto}, {quantidade}\")\n",
    "\n",
    "elif x == 2:\n",
    "    id_to_remove = input(\"Insira o Id do produto que será removido: \")\n",
    "    for index, produto in enumerate(produtos):\n",
    "        if id_to_remove in produto:\n",
    "            id_to_remove = index\n",
    "    produtos.pop(id_to_remove)\n",
    "\n",
    "    with open('mercadorias.txt', 'w', encoding='utf-8') as arquivo:\n",
    "        for i in produtos:\n",
    "            string= (',').join(i)\n",
    "            arquivo.write(f'{string}\\n')\n",
    "\n",
    "elif x == 3:\n",
    "     print(\"\\nRelatório geral de produtos:\\n\")\n",
    "     for i in produtos:\n",
    "        string= (', ').join(i)\n",
    "        print(string)\n",
    "\n",
    "elif x == 4:\n",
    "    print(\"\\nProdutos indisponíveis:\\n\")\n",
    "    for i in produtos:\n",
    "        if i[-1] == '0':\n",
    "            string= (', ').join(i)\n",
    "            print(string)"
   ]
  }
 ],
 "metadata": {
  "kernelspec": {
   "display_name": "Python 3",
   "language": "python",
   "name": "python3"
  },
  "language_info": {
   "codemirror_mode": {
    "name": "ipython",
    "version": 3
   },
   "file_extension": ".py",
   "mimetype": "text/x-python",
   "name": "python",
   "nbconvert_exporter": "python",
   "pygments_lexer": "ipython3",
   "version": "3.11.9"
  }
 },
 "nbformat": 4,
 "nbformat_minor": 5
}
