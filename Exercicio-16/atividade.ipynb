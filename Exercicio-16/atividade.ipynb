{
 "cells": [
  {
   "cell_type": "markdown",
   "id": "cca39f12",
   "metadata": {},
   "source": [
    "### Maior Nota de Aluno\n",
    "\n",
    "- Objetivo: Faça um programa que leia um arquivo texto que contenha o nome e a nota de diversos alunos (um aluno por linha), e mostre na tela o nome e a nota do aluno que possui a maior nota.\n",
    "\n",
    "- Arquivo de Texto: O arquivo notas.txt cont ́em o seguinte conte ́udo:\n",
    "\n",
    "João, 8.5<br>\n",
    "Maria, 9.7<br>\n",
    "Pedro, 6.2<br>"
   ]
  },
  {
   "cell_type": "code",
   "execution_count": 5,
   "id": "923de92d",
   "metadata": {},
   "outputs": [
    {
     "name": "stdout",
     "output_type": "stream",
     "text": [
      "Maria 9.7"
     ]
    }
   ],
   "source": [
    "with open('notas.txt', 'r') as arquivo:\n",
    "    lista_notas = []\n",
    "    for i in arquivo:\n",
    "        lista_notas.append(i.replace(\"\\n\",\"\").split(\",\"))\n",
    "\n",
    "maior_nota = max(lista_notas, key= lambda x: x[-1])\n",
    "\n",
    "for i in maior_nota:\n",
    "    print(i, end=\"\")"
   ]
  }
 ],
 "metadata": {
  "kernelspec": {
   "display_name": "Python 3",
   "language": "python",
   "name": "python3"
  },
  "language_info": {
   "codemirror_mode": {
    "name": "ipython",
    "version": 3
   },
   "file_extension": ".py",
   "mimetype": "text/x-python",
   "name": "python",
   "nbconvert_exporter": "python",
   "pygments_lexer": "ipython3",
   "version": "3.11.9"
  }
 },
 "nbformat": 4,
 "nbformat_minor": 5
}
