{
 "cells": [
  {
   "cell_type": "markdown",
   "id": "26c6683e",
   "metadata": {},
   "source": [
    "### Contagem de Caracteres Espec ́ıficos\n",
    "\n",
    "- Objetivo: Faça um programa que leia um arquivo texto e um caractere fornecido pelo usu ́ario.<br>\n",
    "Mostre na tela quantas vezes aquele caractere ocorre dentro do arquivo.\n",
    "- Arquivo de Texto: O arquivo caracteres.txt contém o seguinte\n",
    "conteúdo:<br>\n",
    "Python é uma linguagem de programação."
   ]
  },
  {
   "cell_type": "code",
   "execution_count": null,
   "id": "e037fbfe",
   "metadata": {},
   "outputs": [
    {
     "name": "stdout",
     "output_type": "stream",
     "text": [
      "A letra a aparece 5 vezes\n"
     ]
    }
   ],
   "source": [
    "from unidecode import unidecode\n",
    "\n",
    "caractere = input(\"Insira o caractere: \").lower()\n",
    "contador = 0\n",
    "\n",
    "arquivo_bruto = open('caracteres.txt', 'r', encoding='utf-8')\n",
    "arquivo = unidecode(arquivo_bruto.read().lower())\n",
    "\n",
    "for letra in arquivo:\n",
    "    if caractere == letra:\n",
    "        contador += 1\n",
    "\n",
    "print(f'A letra {caractere} aparece {contador} vezes')\n"
   ]
  }
 ],
 "metadata": {
  "kernelspec": {
   "display_name": "Python 3",
   "language": "python",
   "name": "python3"
  },
  "language_info": {
   "codemirror_mode": {
    "name": "ipython",
    "version": 3
   },
   "file_extension": ".py",
   "mimetype": "text/x-python",
   "name": "python",
   "nbconvert_exporter": "python",
   "pygments_lexer": "ipython3",
   "version": "3.11.9"
  }
 },
 "nbformat": 4,
 "nbformat_minor": 5
}
