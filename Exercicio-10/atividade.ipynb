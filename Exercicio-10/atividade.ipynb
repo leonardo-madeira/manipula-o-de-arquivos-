{
 "cells": [
  {
   "cell_type": "markdown",
   "id": "6ce16997",
   "metadata": {},
   "source": [
    "### Contagem de Palavras em um Arquivo\n",
    "- Objetivo: Faça um programa que leia um arquivo texto e uma palavra fornecida pelo usu ́ario, e retorne o número de vezes que aquela palavra aparece no arquivo.\n",
    "\n",
    "- Arquivo de Texto: O arquivo palavras.txt contém o seguinte conteúdo:<br>\n",
    "Esta é uma palavra. Palavra é importante."
   ]
  },
  {
   "cell_type": "code",
   "execution_count": 11,
   "id": "7cfc0f76",
   "metadata": {},
   "outputs": [
    {
     "name": "stdout",
     "output_type": "stream",
     "text": [
      "uma: 1\n"
     ]
    }
   ],
   "source": [
    "palavra = input(\"Insria a palavra: \")\n",
    "freq = {palavra : 0}\n",
    "\n",
    "with open('palavras.txt', 'r', encoding='utf-8') as arquivo:\n",
    "    arquivo_bruto = arquivo.read()\n",
    "    palavras = arquivo_bruto.lower().replace(\".\",\"\").split()\n",
    "    \n",
    "    for word in palavras:\n",
    "        if palavra == word:\n",
    "            freq[palavra] += 1\n",
    "\n",
    "for palavra, frequencia in freq.items():\n",
    "    print(f\"{palavra}: {frequencia}\")"
   ]
  }
 ],
 "metadata": {
  "kernelspec": {
   "display_name": "Python 3",
   "language": "python",
   "name": "python3"
  },
  "language_info": {
   "codemirror_mode": {
    "name": "ipython",
    "version": 3
   },
   "file_extension": ".py",
   "mimetype": "text/x-python",
   "name": "python",
   "nbconvert_exporter": "python",
   "pygments_lexer": "ipython3",
   "version": "3.11.9"
  }
 },
 "nbformat": 4,
 "nbformat_minor": 5
}
