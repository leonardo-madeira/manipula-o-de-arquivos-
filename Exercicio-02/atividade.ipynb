{
 "cells": [
  {
   "cell_type": "markdown",
   "id": "05686f2b",
   "metadata": {},
   "source": [
    "### Contagem de Vogais em um Arquivo\n",
    "- Objetivo: Criar um programa que leia um arquivo texto e mostre\n",
    "na tela quantas letras são vogais.\n",
    "- Arquivo de Texto: O arquivo vogais.txt contém o seguinte conteúdo:"
   ]
  },
  {
   "cell_type": "code",
   "execution_count": 1,
   "id": "88b78ca6",
   "metadata": {},
   "outputs": [
    {
     "name": "stdout",
     "output_type": "stream",
     "text": [
      "Quantidade de vogais: 17\n"
     ]
    }
   ],
   "source": [
    "from unidecode import unidecode\n",
    "vogais = ['a','e','i','o','u','A','E','I','O','U']\n",
    "contador = 0\n",
    "\n",
    "with open('vogais.txt', 'r', encoding='utf-8') as texto:\n",
    "    texto_bruto = texto.read().replace(\" \", \"\")\n",
    "    sem_acentos = unidecode(texto_bruto)\n",
    "\n",
    "    for vogal in vogais:\n",
    "        for letra in sem_acentos:\n",
    "            if vogal == letra:\n",
    "                contador += 1\n",
    "\n",
    "print(f'Quantidade de vogais: {contador}')"
   ]
  }
 ],
 "metadata": {
  "kernelspec": {
   "display_name": "Python 3",
   "language": "python",
   "name": "python3"
  },
  "language_info": {
   "codemirror_mode": {
    "name": "ipython",
    "version": 3
   },
   "file_extension": ".py",
   "mimetype": "text/x-python",
   "name": "python",
   "nbconvert_exporter": "python",
   "pygments_lexer": "ipython3",
   "version": "3.11.9"
  }
 },
 "nbformat": 4,
 "nbformat_minor": 5
}
