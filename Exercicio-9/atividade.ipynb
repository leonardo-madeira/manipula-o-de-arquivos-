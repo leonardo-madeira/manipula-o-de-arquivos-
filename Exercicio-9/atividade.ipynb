{
 "cells": [
  {
   "cell_type": "markdown",
   "id": "bc9d4a52",
   "metadata": {},
   "source": [
    "### Cidade Mais Populosa\n",
    "\n",
    "- Objetivo: Faça um programa que leia um arquivo texto contendo o nome de uma cidade (ocupando 40 caracteres) e o seu número de habitantes, e gere outro arquivo onde aparece o nome da cidade mais populosa seguida pelo seu n ́umero de habitantes.\n",
    "\n",
    "- Arquivo de Texto: O arquivo cidades.txt contém o seguinte conteúdo:<br>\n",
    "\n",
    "<table>\n",
    "    <tr>\n",
    "        <td>São Paulo</td>\n",
    "        <td>12345678</td>\n",
    "    </tr>\n",
    "    <tr>\n",
    "        <td>Rio de Janeiro</td>\n",
    "        <td>6543210</td>\n",
    "    </tr> \n",
    "    <tr>\n",
    "        <td>Belo Horizonte</td>\n",
    "        <td>2525000</td>\n",
    "    </tr> \n",
    "\n",
    "</table>\n"
   ]
  },
  {
   "cell_type": "code",
   "execution_count": null,
   "id": "1e7433ec",
   "metadata": {},
   "outputs": [],
   "source": []
  }
 ],
 "metadata": {
  "language_info": {
   "name": "python"
  }
 },
 "nbformat": 4,
 "nbformat_minor": 5
}
