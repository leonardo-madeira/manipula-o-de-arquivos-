{
 "cells": [
  {
   "cell_type": "markdown",
   "id": "0ebb2371",
   "metadata": {},
   "source": [
    "### Cadastro de Nomes e Telefones\n",
    "- Objetivo: Faça um programa que permita que o usuário entre com diversos nomes e telefones para cadastro, e crie um arquivo com essas informações, uma por linha. O usuário finaliza a entrada com 0 para o telefone.\n",
    "\n",
    "- Arquivo de Texto: O arquivo gerado pelo programa deve ser cadastro.txt, com o seguinte formato:\n",
    "\n",
    "João, 123456789\n",
    "\n",
    "Maria, 987654321"
   ]
  },
  {
   "cell_type": "code",
   "execution_count": 17,
   "id": "e6b714e5",
   "metadata": {},
   "outputs": [],
   "source": [
    "nome_list = []\n",
    "telefone_list = [] \n",
    "\n",
    "while True:\n",
    "    entrada = input(\"Digite nome e telefone (ou 0 para sair): \")\n",
    "    if entrada == \"0\":\n",
    "        break\n",
    "    try:\n",
    "        nome, telefone = entrada.replace(\" \", \"\").split(\",\")\n",
    "        nome_list.append(nome)\n",
    "        telefone_list.append(telefone)\n",
    "    except ValueError:\n",
    "        print(\"Entrada inválida. Use o formato: nome,telefone\")\n",
    "\n",
    "with open('cadastro.txt', 'w', encoding='utf-8') as arquivo:\n",
    "    for a,b in zip(nome_list, telefone_list):\n",
    "        arquivo.write(f'{a}, {b}\\n')\n"
   ]
  }
 ],
 "metadata": {
  "kernelspec": {
   "display_name": "Python 3",
   "language": "python",
   "name": "python3"
  },
  "language_info": {
   "codemirror_mode": {
    "name": "ipython",
    "version": 3
   },
   "file_extension": ".py",
   "mimetype": "text/x-python",
   "name": "python",
   "nbconvert_exporter": "python",
   "pygments_lexer": "ipython3",
   "version": "3.11.9"
  }
 },
 "nbformat": 4,
 "nbformat_minor": 5
}
