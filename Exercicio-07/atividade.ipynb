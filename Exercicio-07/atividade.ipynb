{
 "cells": [
  {
   "cell_type": "markdown",
   "id": "97e03255",
   "metadata": {},
   "source": [
    "### Conversão de Minúsculas para Maiúsculas\n",
    "\n",
    "- Objetivo: Desenvolver um programa que leia o conteúdo de um arquivo texto e crie um arquivo com o mesmo conteúdo, mas com\n",
    "todas as letras minúsculas convertidas para maiúsculas. Os nomes dos arquivos serão fornecidos pelo usuário.\n",
    "\n",
    "- Arquivo de Texto: O arquivo minusculas.txt contém o seguinte conteúdo:\n",
    "\n",
    "\n",
    "``` Converta todo este texto para maiúsculas. ```"
   ]
  },
  {
   "cell_type": "code",
   "execution_count": 1,
   "id": "d55b745b",
   "metadata": {},
   "outputs": [],
   "source": [
    "nome_arq = input(\"Insira o nome do arquivo: \")\n",
    "\n",
    "arquivo = open('minusculas.txt', 'r')\n",
    "maiusculo = arquivo.read().upper()\n",
    "\n",
    "\n",
    "with open(f'{nome_arq}.txt', 'w+') as arquivo_novo:\n",
    "    arquivo_novo.write(maiusculo)"
   ]
  }
 ],
 "metadata": {
  "kernelspec": {
   "display_name": "Python 3",
   "language": "python",
   "name": "python3"
  },
  "language_info": {
   "codemirror_mode": {
    "name": "ipython",
    "version": 3
   },
   "file_extension": ".py",
   "mimetype": "text/x-python",
   "name": "python",
   "nbconvert_exporter": "python",
   "pygments_lexer": "ipython3",
   "version": "3.11.9"
  }
 },
 "nbformat": 4,
 "nbformat_minor": 5
}
