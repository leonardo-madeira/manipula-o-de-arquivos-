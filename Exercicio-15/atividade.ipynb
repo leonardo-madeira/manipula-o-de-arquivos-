{
 "cells": [
  {
   "cell_type": "markdown",
   "id": "2f7fae1c",
   "metadata": {},
   "source": [
    "### Cálculo do Total de Compra\n",
    "\n",
    "- Objetivo: Faça um programa que leia um arquivo contendo o nome e o preço de diversos produtos (separados por linha), e calcule o total da compra.\n",
    "\n",
    "- Arquivo de Texto: O arquivo produtos.txt contém o seguinte conteúdo:<br>\n",
    "Arroz, 5.50<br>\n",
    "Feijão, 7.20<br>\n",
    "Macarrão, 3.80<br>"
   ]
  },
  {
   "cell_type": "code",
   "execution_count": 9,
   "id": "f5c79936",
   "metadata": {},
   "outputs": [
    {
     "name": "stdout",
     "output_type": "stream",
     "text": [
      "O total é 16.5\n"
     ]
    }
   ],
   "source": [
    "with open('produtos.txt', 'r', encoding='utf-8') as arquivo:\n",
    "    lista_compras = []\n",
    "\n",
    "    for linha in arquivo:\n",
    "        lista_compras.append(linha.replace(\"\\n\",\"\").split(\",\"))\n",
    "    \n",
    "soma = sum(float(item[-1]) for item in lista_compras)\n",
    "\n",
    "print(f\"O total é {soma}\")"
   ]
  }
 ],
 "metadata": {
  "kernelspec": {
   "display_name": "Python 3",
   "language": "python",
   "name": "python3"
  },
  "language_info": {
   "codemirror_mode": {
    "name": "ipython",
    "version": 3
   },
   "file_extension": ".py",
   "mimetype": "text/x-python",
   "name": "python",
   "nbconvert_exporter": "python",
   "pygments_lexer": "ipython3",
   "version": "3.11.9"
  }
 },
 "nbformat": 4,
 "nbformat_minor": 5
}
