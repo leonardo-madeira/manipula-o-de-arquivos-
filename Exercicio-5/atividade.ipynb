{
 "cells": [
  {
   "cell_type": "markdown",
   "id": "5f6562bc",
   "metadata": {},
   "source": [
    "### Contagem de Letras do Alfabeto\n",
    "- Objetivo: Desenvolver um programa que leia um arquivo texto e\n",
    "mostre na tela quantas vezes cada letra do alfabeto aparece dentro\n",
    "do arquivo.\n",
    "- Arquivo de Texto: O arquivo alfabeto.txt contém o seguinte\n",
    "conteúdo:<br>\n",
    "Abelha, Borboleta, Canguru, Dinossauro, Elefante."
   ]
  },
  {
   "cell_type": "code",
   "execution_count": null,
   "id": "faa6ccf8",
   "metadata": {},
   "outputs": [
    {
     "name": "stdout",
     "output_type": "stream",
     "text": [
      "a : 5\n",
      "b : 2\n",
      "c : 0\n",
      "d : 0\n",
      "e : 4\n",
      "f : 1\n",
      "g : 1\n",
      "h : 1\n",
      "i : 1\n",
      "j : 0\n",
      "k : 0\n",
      "l : 3\n",
      "m : 0\n",
      "n : 3\n",
      "o : 4\n",
      "p : 0\n",
      "q : 0\n",
      "r : 3\n",
      "s : 2\n",
      "t : 2\n",
      "u : 3\n",
      "v : 0\n",
      "w : 0\n",
      "x : 0\n",
      "y : 0\n",
      "z : 0\n"
     ]
    }
   ],
   "source": [
    "from unidecode import unidecode\n",
    "\n",
    "alfabeto = {chr(i): 0 for i in range(ord('a'), ord('z') + 1)}\n",
    "\n",
    "with open('alfabeto.txt', 'r', encoding='utf-8') as texto:\n",
    "    texto_bruto = texto.read().replace(\" \", \"\")\n",
    "    sem_acento = unidecode(texto_bruto)\n",
    "\n",
    "    for letra in alfabeto.keys():\n",
    "        for caractere in sem_acento:\n",
    "            if letra == caractere:\n",
    "                alfabeto[letra] += 1\n",
    "    \n",
    "for letra, frequencia in alfabeto.items():\n",
    "    print(f'{letra} : {frequencia}')\n"
   ]
  }
 ],
 "metadata": {
  "kernelspec": {
   "display_name": "Python 3",
   "language": "python",
   "name": "python3"
  },
  "language_info": {
   "codemirror_mode": {
    "name": "ipython",
    "version": 3
   },
   "file_extension": ".py",
   "mimetype": "text/x-python",
   "name": "python",
   "nbconvert_exporter": "python",
   "pygments_lexer": "ipython3",
   "version": "3.11.9"
  }
 },
 "nbformat": 4,
 "nbformat_minor": 5
}
