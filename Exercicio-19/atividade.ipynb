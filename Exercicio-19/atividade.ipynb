{
 "cells": [
  {
   "cell_type": "markdown",
   "id": "15340914",
   "metadata": {},
   "source": [
    "### Gerenciamento de Notas de Alunos\n",
    "- Objetivo: Faça um programa para gerenciar as notas dos alunos de uma turma salva em um arquivo texto. O programa dever ́a ter um menu contendo as seguintes opções:<br>\n",
    "– Definir informa ̧cões da turma.<br>\n",
    "– Inserir aluno e notas.<br>\n",
    "– Exibir alunos e médias.<br>\n",
    "– Exibir alunos aprovados.<br>\n",
    "– Exibir alunos reprovados.<br>\n",
    "– Salvar dados em disco.<br>\n",
    "– Sair do programa (fim).<br>\n",
    "\n",
    "\n",
    "Faça a rotina que gerencia o menu dentro do main, e para cada uma das opções deste menu, crie uma função específica.\n",
    "\n",
    "- Formato do Arquivo: O arquivo notas turma.txt deve conter o seguinte formato:<br>\n",
    "João, 8.5<br>\n",
    "Maria, 9.7<br>\n",
    "Pedro, 6.2"
   ]
  },
  {
   "cell_type": "code",
   "execution_count": 13,
   "id": "fb61e40a",
   "metadata": {},
   "outputs": [
    {
     "name": "stdout",
     "output_type": "stream",
     "text": [
      "Escolha a opção desejada: \n",
      "1 - Inserir alunos e notas\n",
      "2 - Exibir alunos e notas\n",
      "3 - Exibir alunos com aprovações e reprovações\n",
      "\n",
      "Alunos aprovados e reprovados.\n",
      "\n",
      "João, aprovado\n",
      "Maria, aprovado\n",
      "Pedro, aprovado\n",
      "leonardo, reprovado\n",
      "lucas, reprovado\n"
     ]
    }
   ],
   "source": [
    "print('Escolha a opção desejada: ')\n",
    "print(\"1 - Inserir alunos e notas\")\n",
    "print(\"2 - Exibir alunos e notas\")\n",
    "print(\"3 - Exibir alunos com aprovações e reprovações\")\n",
    "x = int(input())\n",
    "\n",
    "if x == 1:\n",
    "    dados = []\n",
    "    with open('turma.txt', 'a', encoding='utf-8') as arquivo:\n",
    "        while True:\n",
    "            entrada = input(\"Insira o nome seguido da nota no formato: nome, nota\")\n",
    "\n",
    "            if entrada == '0':\n",
    "                break\n",
    "\n",
    "            try:\n",
    "                nome, nota = entrada.replace(\"\\n\", \"\").replace(\" \", \"\").split(\",\")\n",
    "                dados.append([nome, nota])\n",
    "            except ValueError:\n",
    "                print(\"Entrada invalida, tente novamente.\")\n",
    "        \n",
    "        for i in dados:\n",
    "            string = (', ').join(i)\n",
    "            arquivo.write(f'\\n{string}')\n",
    "\n",
    "elif x == 2:\n",
    "    with open('turma.txt', 'r', encoding='utf-8') as arquivo:\n",
    "\n",
    "        for i in arquivo:\n",
    "            print(arquivo.read())\n",
    "\n",
    "elif x == 3:\n",
    "    dados = []\n",
    "    dados_rotulados = []\n",
    "\n",
    "    with open('turma.txt', 'r', encoding='utf-8') as arquivo:\n",
    "        for i in arquivo:\n",
    "            dados.append(i.replace(\"\\n\", \"\").strip().split(\",\"))\n",
    "\n",
    "    for i in dados:\n",
    "        if float(i[-1]) < 6:\n",
    "            dados_rotulados.append([i[0], 'reprovado'])\n",
    "        else:\n",
    "            dados_rotulados.append([i[0], 'aprovado'])\n",
    "    \n",
    "    print(\"\\nAlunos aprovados e reprovados.\\n\")\n",
    "    for i in dados_rotulados:\n",
    "        string = (\", \").join(i)\n",
    "        print(string)\n",
    "\n",
    "\n"
   ]
  }
 ],
 "metadata": {
  "kernelspec": {
   "display_name": "Python 3",
   "language": "python",
   "name": "python3"
  },
  "language_info": {
   "codemirror_mode": {
    "name": "ipython",
    "version": 3
   },
   "file_extension": ".py",
   "mimetype": "text/x-python",
   "name": "python",
   "nbconvert_exporter": "python",
   "pygments_lexer": "ipython3",
   "version": "3.11.9"
  }
 },
 "nbformat": 4,
 "nbformat_minor": 5
}
